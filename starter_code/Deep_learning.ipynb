{
 "cells": [
  {
   "cell_type": "code",
   "execution_count": 1,
   "metadata": {},
   "outputs": [
    {
     "output_type": "execute_result",
     "data": {
      "text/plain": [
       "'2.4.0'"
      ]
     },
     "metadata": {},
     "execution_count": 1
    }
   ],
   "source": [
    "import pandas as pd\n",
    "import numpy\n",
    "from sklearn.model_selection import train_test_split\n",
    "from sklearn.preprocessing import LabelEncoder, MinMaxScaler\n",
    "from tensorflow.keras.utils import to_categorical\n",
    "import tensorflow\n",
    "tensorflow.keras.__version__"
   ]
  },
  {
   "cell_type": "markdown",
   "metadata": {},
   "source": [
    "# Read the CSV and Perform Basic Data Cleaning"
   ]
  },
  {
   "cell_type": "code",
   "execution_count": 2,
   "metadata": {},
   "outputs": [
    {
     "output_type": "execute_result",
     "data": {
      "text/plain": [
       "  koi_disposition  koi_fpflag_nt  koi_fpflag_ss  koi_fpflag_co  koi_fpflag_ec  \\\n",
       "0       CONFIRMED              0              0              0              0   \n",
       "1  FALSE POSITIVE              0              1              0              0   \n",
       "2  FALSE POSITIVE              0              1              0              0   \n",
       "3       CONFIRMED              0              0              0              0   \n",
       "4       CONFIRMED              0              0              0              0   \n",
       "\n",
       "   koi_period  koi_period_err1  koi_period_err2  koi_time0bk  \\\n",
       "0   54.418383     2.479000e-04    -2.479000e-04   162.513840   \n",
       "1   19.899140     1.490000e-05    -1.490000e-05   175.850252   \n",
       "2    1.736952     2.630000e-07    -2.630000e-07   170.307565   \n",
       "3    2.525592     3.760000e-06    -3.760000e-06   171.595550   \n",
       "4    4.134435     1.050000e-05    -1.050000e-05   172.979370   \n",
       "\n",
       "   koi_time0bk_err1  ...  koi_steff_err2  koi_slogg  koi_slogg_err1  \\\n",
       "0          0.003520  ...             -81      4.467           0.064   \n",
       "1          0.000581  ...            -176      4.544           0.044   \n",
       "2          0.000115  ...            -174      4.564           0.053   \n",
       "3          0.001130  ...            -211      4.438           0.070   \n",
       "4          0.001900  ...            -232      4.486           0.054   \n",
       "\n",
       "   koi_slogg_err2  koi_srad  koi_srad_err1  koi_srad_err2         ra  \\\n",
       "0          -0.096     0.927          0.105         -0.061  291.93423   \n",
       "1          -0.176     0.868          0.233         -0.078  297.00482   \n",
       "2          -0.168     0.791          0.201         -0.067  285.53461   \n",
       "3          -0.210     1.046          0.334         -0.133  288.75488   \n",
       "4          -0.229     0.972          0.315         -0.105  296.28613   \n",
       "\n",
       "         dec  koi_kepmag  \n",
       "0  48.141651      15.347  \n",
       "1  48.134129      15.436  \n",
       "2  48.285210      15.597  \n",
       "3  48.226200      15.509  \n",
       "4  48.224670      15.714  \n",
       "\n",
       "[5 rows x 41 columns]"
      ],
      "text/html": "<div>\n<style scoped>\n    .dataframe tbody tr th:only-of-type {\n        vertical-align: middle;\n    }\n\n    .dataframe tbody tr th {\n        vertical-align: top;\n    }\n\n    .dataframe thead th {\n        text-align: right;\n    }\n</style>\n<table border=\"1\" class=\"dataframe\">\n  <thead>\n    <tr style=\"text-align: right;\">\n      <th></th>\n      <th>koi_disposition</th>\n      <th>koi_fpflag_nt</th>\n      <th>koi_fpflag_ss</th>\n      <th>koi_fpflag_co</th>\n      <th>koi_fpflag_ec</th>\n      <th>koi_period</th>\n      <th>koi_period_err1</th>\n      <th>koi_period_err2</th>\n      <th>koi_time0bk</th>\n      <th>koi_time0bk_err1</th>\n      <th>...</th>\n      <th>koi_steff_err2</th>\n      <th>koi_slogg</th>\n      <th>koi_slogg_err1</th>\n      <th>koi_slogg_err2</th>\n      <th>koi_srad</th>\n      <th>koi_srad_err1</th>\n      <th>koi_srad_err2</th>\n      <th>ra</th>\n      <th>dec</th>\n      <th>koi_kepmag</th>\n    </tr>\n  </thead>\n  <tbody>\n    <tr>\n      <th>0</th>\n      <td>CONFIRMED</td>\n      <td>0</td>\n      <td>0</td>\n      <td>0</td>\n      <td>0</td>\n      <td>54.418383</td>\n      <td>2.479000e-04</td>\n      <td>-2.479000e-04</td>\n      <td>162.513840</td>\n      <td>0.003520</td>\n      <td>...</td>\n      <td>-81</td>\n      <td>4.467</td>\n      <td>0.064</td>\n      <td>-0.096</td>\n      <td>0.927</td>\n      <td>0.105</td>\n      <td>-0.061</td>\n      <td>291.93423</td>\n      <td>48.141651</td>\n      <td>15.347</td>\n    </tr>\n    <tr>\n      <th>1</th>\n      <td>FALSE POSITIVE</td>\n      <td>0</td>\n      <td>1</td>\n      <td>0</td>\n      <td>0</td>\n      <td>19.899140</td>\n      <td>1.490000e-05</td>\n      <td>-1.490000e-05</td>\n      <td>175.850252</td>\n      <td>0.000581</td>\n      <td>...</td>\n      <td>-176</td>\n      <td>4.544</td>\n      <td>0.044</td>\n      <td>-0.176</td>\n      <td>0.868</td>\n      <td>0.233</td>\n      <td>-0.078</td>\n      <td>297.00482</td>\n      <td>48.134129</td>\n      <td>15.436</td>\n    </tr>\n    <tr>\n      <th>2</th>\n      <td>FALSE POSITIVE</td>\n      <td>0</td>\n      <td>1</td>\n      <td>0</td>\n      <td>0</td>\n      <td>1.736952</td>\n      <td>2.630000e-07</td>\n      <td>-2.630000e-07</td>\n      <td>170.307565</td>\n      <td>0.000115</td>\n      <td>...</td>\n      <td>-174</td>\n      <td>4.564</td>\n      <td>0.053</td>\n      <td>-0.168</td>\n      <td>0.791</td>\n      <td>0.201</td>\n      <td>-0.067</td>\n      <td>285.53461</td>\n      <td>48.285210</td>\n      <td>15.597</td>\n    </tr>\n    <tr>\n      <th>3</th>\n      <td>CONFIRMED</td>\n      <td>0</td>\n      <td>0</td>\n      <td>0</td>\n      <td>0</td>\n      <td>2.525592</td>\n      <td>3.760000e-06</td>\n      <td>-3.760000e-06</td>\n      <td>171.595550</td>\n      <td>0.001130</td>\n      <td>...</td>\n      <td>-211</td>\n      <td>4.438</td>\n      <td>0.070</td>\n      <td>-0.210</td>\n      <td>1.046</td>\n      <td>0.334</td>\n      <td>-0.133</td>\n      <td>288.75488</td>\n      <td>48.226200</td>\n      <td>15.509</td>\n    </tr>\n    <tr>\n      <th>4</th>\n      <td>CONFIRMED</td>\n      <td>0</td>\n      <td>0</td>\n      <td>0</td>\n      <td>0</td>\n      <td>4.134435</td>\n      <td>1.050000e-05</td>\n      <td>-1.050000e-05</td>\n      <td>172.979370</td>\n      <td>0.001900</td>\n      <td>...</td>\n      <td>-232</td>\n      <td>4.486</td>\n      <td>0.054</td>\n      <td>-0.229</td>\n      <td>0.972</td>\n      <td>0.315</td>\n      <td>-0.105</td>\n      <td>296.28613</td>\n      <td>48.224670</td>\n      <td>15.714</td>\n    </tr>\n  </tbody>\n</table>\n<p>5 rows × 41 columns</p>\n</div>"
     },
     "metadata": {},
     "execution_count": 2
    }
   ],
   "source": [
    "df = pd.read_csv(\"exoplanet_data.csv\")\n",
    "# Drop the null columns where all values are null\n",
    "df = df.dropna(axis='columns', how='all')\n",
    "# Drop the null rows\n",
    "df = df.dropna()\n",
    "df.head()"
   ]
  },
  {
   "cell_type": "code",
   "execution_count": 3,
   "metadata": {},
   "outputs": [
    {
     "output_type": "execute_result",
     "data": {
      "text/plain": [
       "Index(['koi_disposition', 'koi_fpflag_nt', 'koi_fpflag_ss', 'koi_fpflag_co',\n",
       "       'koi_fpflag_ec', 'koi_period', 'koi_period_err1', 'koi_period_err2',\n",
       "       'koi_time0bk', 'koi_time0bk_err1', 'koi_time0bk_err2', 'koi_impact',\n",
       "       'koi_impact_err1', 'koi_impact_err2', 'koi_duration',\n",
       "       'koi_duration_err1', 'koi_duration_err2', 'koi_depth', 'koi_depth_err1',\n",
       "       'koi_depth_err2', 'koi_prad', 'koi_prad_err1', 'koi_prad_err2',\n",
       "       'koi_teq', 'koi_insol', 'koi_insol_err1', 'koi_insol_err2',\n",
       "       'koi_model_snr', 'koi_tce_plnt_num', 'koi_steff', 'koi_steff_err1',\n",
       "       'koi_steff_err2', 'koi_slogg', 'koi_slogg_err1', 'koi_slogg_err2',\n",
       "       'koi_srad', 'koi_srad_err1', 'koi_srad_err2', 'ra', 'dec',\n",
       "       'koi_kepmag'],\n",
       "      dtype='object')"
      ]
     },
     "metadata": {},
     "execution_count": 3
    }
   ],
   "source": [
    "df.columns"
   ]
  },
  {
   "cell_type": "markdown",
   "metadata": {},
   "source": [
    "# Select your features (columns)"
   ]
  },
  {
   "cell_type": "code",
   "execution_count": 4,
   "metadata": {},
   "outputs": [],
   "source": [
    "# Set features. This will also be used as your x values.\n",
    "X = df.drop(\"koi_disposition\", axis=1)"
   ]
  },
  {
   "cell_type": "markdown",
   "metadata": {},
   "source": [
    "# Create a Train Test Split\n",
    "\n",
    "Use `koi_disposition` for the y values"
   ]
  },
  {
   "cell_type": "code",
   "execution_count": 5,
   "metadata": {},
   "outputs": [
    {
     "output_type": "stream",
     "name": "stdout",
     "text": [
      "(6991, 40) (6991,)\n"
     ]
    }
   ],
   "source": [
    "y=df[\"koi_disposition\"]\n",
    "print(X.shape, y.shape)"
   ]
  },
  {
   "cell_type": "code",
   "execution_count": 6,
   "metadata": {},
   "outputs": [],
   "source": [
    "X_train, X_test, y_train, y_test = train_test_split(\n",
    "    X, y, random_state=1)"
   ]
  },
  {
   "cell_type": "markdown",
   "metadata": {},
   "source": [
    "# Pre-processing\n",
    "\n",
    "Scale the data using the MinMaxScaler and perform some feature selection"
   ]
  },
  {
   "cell_type": "code",
   "execution_count": 7,
   "metadata": {},
   "outputs": [],
   "source": [
    "# Scale your data\n",
    "from sklearn.preprocessing import MinMaxScaler\n",
    "X_scaler = MinMaxScaler().fit(X_train)"
   ]
  },
  {
   "cell_type": "code",
   "execution_count": 8,
   "metadata": {},
   "outputs": [],
   "source": [
    "X_train_scaled = X_scaler.transform(X_train)\n",
    "X_test_scaled = X_scaler.transform(X_test)"
   ]
  },
  {
   "cell_type": "code",
   "execution_count": 9,
   "metadata": {},
   "outputs": [],
   "source": [
    "# Step 1: Label-encode data set\n",
    "label_encoder = LabelEncoder()\n",
    "label_encoder.fit(y_train)\n",
    "encoded_y_train = label_encoder.transform(y_train)\n",
    "encoded_y_test = label_encoder.transform(y_test)"
   ]
  },
  {
   "cell_type": "code",
   "execution_count": 10,
   "metadata": {},
   "outputs": [],
   "source": [
    "# Step 2: Convert encoded labels to one-hot-encoding\n",
    "y_train_categorical = to_categorical(encoded_y_train,3)\n",
    "y_test_categorical = to_categorical(encoded_y_test)"
   ]
  },
  {
   "cell_type": "markdown",
   "metadata": {},
   "source": [
    "# Train the Model\n",
    "\n"
   ]
  },
  {
   "cell_type": "code",
   "execution_count": 11,
   "metadata": {},
   "outputs": [],
   "source": [
    "from tensorflow.keras.models import Sequential\n",
    "from tensorflow.keras.layers import Dense"
   ]
  },
  {
   "cell_type": "code",
   "execution_count": 13,
   "metadata": {},
   "outputs": [],
   "source": [
    "model = Sequential()\n",
    "model.add(Dense(units=100, activation='relu', input_dim=X_train.shape[1]))\n",
    "model.add(Dense(units=100, activation='relu'))\n",
    "model.add(Dense(units=3, activation='softmax'))"
   ]
  },
  {
   "cell_type": "code",
   "execution_count": 14,
   "metadata": {},
   "outputs": [],
   "source": [
    "# Compile and fit the model\n",
    "model.compile(optimizer='adam',\n",
    "              loss='categorical_crossentropy',\n",
    "              metrics=['accuracy'])"
   ]
  },
  {
   "cell_type": "code",
   "execution_count": 15,
   "metadata": {},
   "outputs": [
    {
     "output_type": "stream",
     "name": "stdout",
     "text": [
      "Model: \"sequential\"\n_________________________________________________________________\nLayer (type)                 Output Shape              Param #   \n=================================================================\ndense (Dense)                (None, 100)               4100      \n_________________________________________________________________\ndense_1 (Dense)              (None, 100)               10100     \n_________________________________________________________________\ndense_2 (Dense)              (None, 3)                 303       \n=================================================================\nTotal params: 14,503\nTrainable params: 14,503\nNon-trainable params: 0\n_________________________________________________________________\n"
     ]
    }
   ],
   "source": [
    "model.summary()"
   ]
  },
  {
   "cell_type": "code",
   "execution_count": 16,
   "metadata": {},
   "outputs": [
    {
     "output_type": "stream",
     "name": "stdout",
     "text": [
      "Epoch 1/100\n",
      "164/164 - 1s - loss: 0.5331 - accuracy: 0.7458\n",
      "Epoch 2/100\n",
      "164/164 - 0s - loss: 0.3812 - accuracy: 0.8041\n",
      "Epoch 3/100\n",
      "164/164 - 0s - loss: 0.3629 - accuracy: 0.8186\n",
      "Epoch 4/100\n",
      "164/164 - 0s - loss: 0.3545 - accuracy: 0.8251\n",
      "Epoch 5/100\n",
      "164/164 - 0s - loss: 0.3484 - accuracy: 0.8323\n",
      "Epoch 6/100\n",
      "164/164 - 0s - loss: 0.3426 - accuracy: 0.8323\n",
      "Epoch 7/100\n",
      "164/164 - 0s - loss: 0.3322 - accuracy: 0.8468\n",
      "Epoch 8/100\n",
      "164/164 - 0s - loss: 0.3328 - accuracy: 0.8404\n",
      "Epoch 9/100\n",
      "164/164 - 0s - loss: 0.3287 - accuracy: 0.8444\n",
      "Epoch 10/100\n",
      "164/164 - 0s - loss: 0.3208 - accuracy: 0.8528\n",
      "Epoch 11/100\n",
      "164/164 - 0s - loss: 0.3179 - accuracy: 0.8564\n",
      "Epoch 12/100\n",
      "164/164 - 0s - loss: 0.3194 - accuracy: 0.8556\n",
      "Epoch 13/100\n",
      "164/164 - 0s - loss: 0.3122 - accuracy: 0.8583\n",
      "Epoch 14/100\n",
      "164/164 - 0s - loss: 0.3110 - accuracy: 0.8558\n",
      "Epoch 15/100\n",
      "164/164 - 0s - loss: 0.3014 - accuracy: 0.8667\n",
      "Epoch 16/100\n",
      "164/164 - 0s - loss: 0.3065 - accuracy: 0.8606\n",
      "Epoch 17/100\n",
      "164/164 - 0s - loss: 0.3008 - accuracy: 0.8642\n",
      "Epoch 18/100\n",
      "164/164 - 0s - loss: 0.2951 - accuracy: 0.8661\n",
      "Epoch 19/100\n",
      "164/164 - 0s - loss: 0.2936 - accuracy: 0.8709\n",
      "Epoch 20/100\n",
      "164/164 - 0s - loss: 0.2955 - accuracy: 0.8669\n",
      "Epoch 21/100\n",
      "164/164 - 0s - loss: 0.2908 - accuracy: 0.8709\n",
      "Epoch 22/100\n",
      "164/164 - 0s - loss: 0.2857 - accuracy: 0.8758\n",
      "Epoch 23/100\n",
      "164/164 - 0s - loss: 0.2842 - accuracy: 0.8726\n",
      "Epoch 24/100\n",
      "164/164 - 0s - loss: 0.2858 - accuracy: 0.8743\n",
      "Epoch 25/100\n",
      "164/164 - 0s - loss: 0.2875 - accuracy: 0.8722\n",
      "Epoch 26/100\n",
      "164/164 - 0s - loss: 0.2855 - accuracy: 0.8730\n",
      "Epoch 27/100\n",
      "164/164 - 0s - loss: 0.2798 - accuracy: 0.8743\n",
      "Epoch 28/100\n",
      "164/164 - 0s - loss: 0.2806 - accuracy: 0.8758\n",
      "Epoch 29/100\n",
      "164/164 - 0s - loss: 0.2835 - accuracy: 0.8737\n",
      "Epoch 30/100\n",
      "164/164 - 0s - loss: 0.2784 - accuracy: 0.8806\n",
      "Epoch 31/100\n",
      "164/164 - 0s - loss: 0.2778 - accuracy: 0.8724\n",
      "Epoch 32/100\n",
      "164/164 - 0s - loss: 0.2806 - accuracy: 0.8751\n",
      "Epoch 33/100\n",
      "164/164 - 0s - loss: 0.2737 - accuracy: 0.8833\n",
      "Epoch 34/100\n",
      "164/164 - 0s - loss: 0.2735 - accuracy: 0.8777\n",
      "Epoch 35/100\n",
      "164/164 - 0s - loss: 0.2769 - accuracy: 0.8785\n",
      "Epoch 36/100\n",
      "164/164 - 0s - loss: 0.2696 - accuracy: 0.8825\n",
      "Epoch 37/100\n",
      "164/164 - 0s - loss: 0.2696 - accuracy: 0.8795\n",
      "Epoch 38/100\n",
      "164/164 - 0s - loss: 0.2656 - accuracy: 0.8867\n",
      "Epoch 39/100\n",
      "164/164 - 0s - loss: 0.2707 - accuracy: 0.8827\n",
      "Epoch 40/100\n",
      "164/164 - 0s - loss: 0.2684 - accuracy: 0.8865\n",
      "Epoch 41/100\n",
      "164/164 - 0s - loss: 0.2674 - accuracy: 0.8793\n",
      "Epoch 42/100\n",
      "164/164 - 0s - loss: 0.2717 - accuracy: 0.8760\n",
      "Epoch 43/100\n",
      "164/164 - 0s - loss: 0.2649 - accuracy: 0.8823\n",
      "Epoch 44/100\n",
      "164/164 - 0s - loss: 0.2580 - accuracy: 0.8840\n",
      "Epoch 45/100\n",
      "164/164 - 0s - loss: 0.2601 - accuracy: 0.8869\n",
      "Epoch 46/100\n",
      "164/164 - 0s - loss: 0.2697 - accuracy: 0.8831\n",
      "Epoch 47/100\n",
      "164/164 - 0s - loss: 0.2604 - accuracy: 0.8850\n",
      "Epoch 48/100\n",
      "164/164 - 0s - loss: 0.2561 - accuracy: 0.8873\n",
      "Epoch 49/100\n",
      "164/164 - 0s - loss: 0.2564 - accuracy: 0.8875\n",
      "Epoch 50/100\n",
      "164/164 - 0s - loss: 0.2545 - accuracy: 0.8909\n",
      "Epoch 51/100\n",
      "164/164 - 0s - loss: 0.2553 - accuracy: 0.8899\n",
      "Epoch 52/100\n",
      "164/164 - 0s - loss: 0.2566 - accuracy: 0.8856\n",
      "Epoch 53/100\n",
      "164/164 - 0s - loss: 0.2506 - accuracy: 0.8924\n",
      "Epoch 54/100\n",
      "164/164 - 0s - loss: 0.2495 - accuracy: 0.8896\n",
      "Epoch 55/100\n",
      "164/164 - 0s - loss: 0.2524 - accuracy: 0.8928\n",
      "Epoch 56/100\n",
      "164/164 - 0s - loss: 0.2473 - accuracy: 0.8938\n",
      "Epoch 57/100\n",
      "164/164 - 0s - loss: 0.2477 - accuracy: 0.8913\n",
      "Epoch 58/100\n",
      "164/164 - 0s - loss: 0.2468 - accuracy: 0.8924\n",
      "Epoch 59/100\n",
      "164/164 - 0s - loss: 0.2475 - accuracy: 0.8909\n",
      "Epoch 60/100\n",
      "164/164 - 0s - loss: 0.2566 - accuracy: 0.8871\n",
      "Epoch 61/100\n",
      "164/164 - 0s - loss: 0.2480 - accuracy: 0.8903\n",
      "Epoch 62/100\n",
      "164/164 - 0s - loss: 0.2475 - accuracy: 0.8905\n",
      "Epoch 63/100\n",
      "164/164 - 0s - loss: 0.2430 - accuracy: 0.8955\n",
      "Epoch 64/100\n",
      "164/164 - 0s - loss: 0.2451 - accuracy: 0.8901\n",
      "Epoch 65/100\n",
      "164/164 - 0s - loss: 0.2435 - accuracy: 0.8959\n",
      "Epoch 66/100\n",
      "164/164 - 0s - loss: 0.2453 - accuracy: 0.8924\n",
      "Epoch 67/100\n",
      "164/164 - 0s - loss: 0.2514 - accuracy: 0.8854\n",
      "Epoch 68/100\n",
      "164/164 - 0s - loss: 0.2383 - accuracy: 0.8932\n",
      "Epoch 69/100\n",
      "164/164 - 0s - loss: 0.2402 - accuracy: 0.8901\n",
      "Epoch 70/100\n",
      "164/164 - 0s - loss: 0.2454 - accuracy: 0.8915\n",
      "Epoch 71/100\n",
      "164/164 - 0s - loss: 0.2414 - accuracy: 0.8920\n",
      "Epoch 72/100\n",
      "164/164 - 0s - loss: 0.2389 - accuracy: 0.8909\n",
      "Epoch 73/100\n",
      "164/164 - 0s - loss: 0.2369 - accuracy: 0.8936\n",
      "Epoch 74/100\n",
      "164/164 - 0s - loss: 0.2346 - accuracy: 0.8953\n",
      "Epoch 75/100\n",
      "164/164 - 0s - loss: 0.2364 - accuracy: 0.8999\n",
      "Epoch 76/100\n",
      "164/164 - 0s - loss: 0.2306 - accuracy: 0.8966\n",
      "Epoch 77/100\n",
      "164/164 - 0s - loss: 0.2398 - accuracy: 0.8959\n",
      "Epoch 78/100\n",
      "164/164 - 0s - loss: 0.2324 - accuracy: 0.8941\n",
      "Epoch 79/100\n",
      "164/164 - 0s - loss: 0.2331 - accuracy: 0.8953\n",
      "Epoch 80/100\n",
      "164/164 - 0s - loss: 0.2397 - accuracy: 0.8913\n",
      "Epoch 81/100\n",
      "164/164 - 0s - loss: 0.2410 - accuracy: 0.8911\n",
      "Epoch 82/100\n",
      "164/164 - 0s - loss: 0.2343 - accuracy: 0.8934\n",
      "Epoch 83/100\n",
      "164/164 - 0s - loss: 0.2309 - accuracy: 0.9020\n",
      "Epoch 84/100\n",
      "164/164 - 0s - loss: 0.2354 - accuracy: 0.8978\n",
      "Epoch 85/100\n",
      "164/164 - 0s - loss: 0.2287 - accuracy: 0.9039\n",
      "Epoch 86/100\n",
      "164/164 - 0s - loss: 0.2287 - accuracy: 0.9004\n",
      "Epoch 87/100\n",
      "164/164 - 0s - loss: 0.2257 - accuracy: 0.8995\n",
      "Epoch 88/100\n",
      "164/164 - 0s - loss: 0.2318 - accuracy: 0.8930\n",
      "Epoch 89/100\n",
      "164/164 - 0s - loss: 0.2291 - accuracy: 0.8968\n",
      "Epoch 90/100\n",
      "164/164 - 0s - loss: 0.2359 - accuracy: 0.8955\n",
      "Epoch 91/100\n",
      "164/164 - 0s - loss: 0.2286 - accuracy: 0.8955\n",
      "Epoch 92/100\n",
      "164/164 - 0s - loss: 0.2233 - accuracy: 0.9016\n",
      "Epoch 93/100\n",
      "164/164 - 0s - loss: 0.2266 - accuracy: 0.8987\n",
      "Epoch 94/100\n",
      "164/164 - 0s - loss: 0.2252 - accuracy: 0.8974\n",
      "Epoch 95/100\n",
      "164/164 - 0s - loss: 0.2253 - accuracy: 0.9025\n",
      "Epoch 96/100\n",
      "164/164 - 0s - loss: 0.2293 - accuracy: 0.8959\n",
      "Epoch 97/100\n",
      "164/164 - 0s - loss: 0.2257 - accuracy: 0.8993\n",
      "Epoch 98/100\n",
      "164/164 - 0s - loss: 0.2218 - accuracy: 0.9041\n",
      "Epoch 99/100\n",
      "164/164 - 0s - loss: 0.2297 - accuracy: 0.8953\n",
      "Epoch 100/100\n",
      "164/164 - 0s - loss: 0.2219 - accuracy: 0.8985\n"
     ]
    },
    {
     "output_type": "execute_result",
     "data": {
      "text/plain": [
       "<tensorflow.python.keras.callbacks.History at 0x1a93b8b4c10>"
      ]
     },
     "metadata": {},
     "execution_count": 16
    }
   ],
   "source": [
    "model.fit(\n",
    "    X_train_scaled,\n",
    "    y_train_categorical,\n",
    "    epochs=100,\n",
    "    shuffle=True,\n",
    "    verbose=2\n",
    ")"
   ]
  },
  {
   "cell_type": "code",
   "execution_count": 17,
   "metadata": {},
   "outputs": [
    {
     "output_type": "stream",
     "name": "stdout",
     "text": [
      "55/55 - 0s - loss: 0.2409 - accuracy: 0.9090\n",
      "Normal Neural Network - Loss: 0.24092918634414673, Accuracy: 0.9090389013290405\n"
     ]
    }
   ],
   "source": [
    " model_loss, model_accuracy = model.evaluate(\n",
    "    X_test_scaled, y_test_categorical, verbose=2)\n",
    "print(\n",
    "    f\"Normal Neural Network - Loss: {model_loss}, Accuracy: {model_accuracy}\")"
   ]
  },
  {
   "cell_type": "markdown",
   "metadata": {},
   "source": [
    "# Hyperparameter Tuning\n",
    "\n",
    "Use `GridSearchCV` to tune the model's parameters"
   ]
  },
  {
   "cell_type": "code",
   "execution_count": 18,
   "metadata": {},
   "outputs": [],
   "source": [
    "# Create the GridSearchCV model\n",
    "from sklearn.metrics import make_scorer\n",
    "from sklearn.metrics import accuracy_score, precision_score, recall_score\n",
    "from sklearn.model_selection import GridSearchCV\n",
    "from tensorflow.keras.wrappers.scikit_learn import KerasClassifier\n",
    "#param_grid = {'epochs': [80, 150,300]}\n",
    "#scorers = {'accuracy_score': make_scorer(accuracy_score)}\n",
    "#grid = GridSearchCV(model, param_grid, verbose=3, scoring=scorers, refit=\"accuracy_score\")\n",
    "#grid_result = grid.fit(X_train_scaled,y_train_categorical)\n"
   ]
  },
  {
   "cell_type": "code",
   "execution_count": 19,
   "metadata": {},
   "outputs": [],
   "source": [
    "def getModel(optimizer):\n",
    "    model1 = Sequential()\n",
    "    model1.add(Dense(units=100, activation='relu', input_dim=X_train.shape[1]))\n",
    "    model1.add(Dense(units=100, activation='relu'))\n",
    "    model1.add(Dense(units=3, activation='softmax'))\n",
    "    model1.compile(optimizer=optimizer , loss = 'categorical_crossentropy' , metrics=['accuracy'])\n",
    "    return model1\n",
    "\n",
    "#optimizer = ['SGD', 'RMSprop', 'Adagrad', 'Adadelta', 'Adam', 'Adamax', 'Nadam']\n",
    "optimizer=['Adam']\n",
    "epochs = [150]\n",
    "\n",
    "param_grid = dict(epochs=epochs, optimizer=optimizer)\n",
    "Kmodel = KerasClassifier(build_fn=getModel, verbose=2)\n",
    "grid = GridSearchCV(estimator=Kmodel, param_grid=param_grid, scoring='accuracy', n_jobs=-1, refit='accuracy_score')"
   ]
  },
  {
   "cell_type": "code",
   "execution_count": 20,
   "metadata": {},
   "outputs": [
    {
     "output_type": "stream",
     "name": "stdout",
     "text": [
      "Epoch 1/150\n",
      "164/164 - 1s - loss: 0.5623 - accuracy: 0.7246\n",
      "Epoch 2/150\n",
      "164/164 - 0s - loss: 0.3775 - accuracy: 0.8045\n",
      "Epoch 3/150\n",
      "164/164 - 0s - loss: 0.3678 - accuracy: 0.8108\n",
      "Epoch 4/150\n",
      "164/164 - 0s - loss: 0.3544 - accuracy: 0.8184\n",
      "Epoch 5/150\n",
      "164/164 - 0s - loss: 0.3449 - accuracy: 0.8360\n",
      "Epoch 6/150\n",
      "164/164 - 0s - loss: 0.3382 - accuracy: 0.8423\n",
      "Epoch 7/150\n",
      "164/164 - 0s - loss: 0.3357 - accuracy: 0.8398\n",
      "Epoch 8/150\n",
      "164/164 - 0s - loss: 0.3340 - accuracy: 0.8461\n",
      "Epoch 9/150\n",
      "164/164 - 0s - loss: 0.3225 - accuracy: 0.8520\n",
      "Epoch 10/150\n",
      "164/164 - 0s - loss: 0.3189 - accuracy: 0.8493\n",
      "Epoch 11/150\n",
      "164/164 - 0s - loss: 0.3138 - accuracy: 0.8547\n",
      "Epoch 12/150\n",
      "164/164 - 0s - loss: 0.3098 - accuracy: 0.8560\n",
      "Epoch 13/150\n",
      "164/164 - 0s - loss: 0.3049 - accuracy: 0.8583\n",
      "Epoch 14/150\n",
      "164/164 - 0s - loss: 0.3072 - accuracy: 0.8611\n",
      "Epoch 15/150\n",
      "164/164 - 0s - loss: 0.3039 - accuracy: 0.8598\n",
      "Epoch 16/150\n",
      "164/164 - 0s - loss: 0.3014 - accuracy: 0.8636\n",
      "Epoch 17/150\n",
      "164/164 - 0s - loss: 0.2958 - accuracy: 0.8705\n",
      "Epoch 18/150\n",
      "164/164 - 0s - loss: 0.3003 - accuracy: 0.8671\n",
      "Epoch 19/150\n",
      "164/164 - 0s - loss: 0.2915 - accuracy: 0.8707\n",
      "Epoch 20/150\n",
      "164/164 - 0s - loss: 0.2953 - accuracy: 0.8688\n",
      "Epoch 21/150\n",
      "164/164 - 0s - loss: 0.2943 - accuracy: 0.8688\n",
      "Epoch 22/150\n",
      "164/164 - 0s - loss: 0.2929 - accuracy: 0.8678\n",
      "Epoch 23/150\n",
      "164/164 - 0s - loss: 0.2857 - accuracy: 0.8737\n",
      "Epoch 24/150\n",
      "164/164 - 0s - loss: 0.2818 - accuracy: 0.8737\n",
      "Epoch 25/150\n",
      "164/164 - 0s - loss: 0.2846 - accuracy: 0.8768\n",
      "Epoch 26/150\n",
      "164/164 - 0s - loss: 0.2871 - accuracy: 0.8747\n",
      "Epoch 27/150\n",
      "164/164 - 0s - loss: 0.2881 - accuracy: 0.8693\n",
      "Epoch 28/150\n",
      "164/164 - 0s - loss: 0.2819 - accuracy: 0.8743\n",
      "Epoch 29/150\n",
      "164/164 - 0s - loss: 0.2798 - accuracy: 0.8785\n",
      "Epoch 30/150\n",
      "164/164 - 0s - loss: 0.2742 - accuracy: 0.8798\n",
      "Epoch 31/150\n",
      "164/164 - 0s - loss: 0.2718 - accuracy: 0.8821\n",
      "Epoch 32/150\n",
      "164/164 - 0s - loss: 0.2809 - accuracy: 0.8808\n",
      "Epoch 33/150\n",
      "164/164 - 0s - loss: 0.2762 - accuracy: 0.8789\n",
      "Epoch 34/150\n",
      "164/164 - 0s - loss: 0.2711 - accuracy: 0.8835\n",
      "Epoch 35/150\n",
      "164/164 - 0s - loss: 0.2769 - accuracy: 0.8777\n",
      "Epoch 36/150\n",
      "164/164 - 0s - loss: 0.2708 - accuracy: 0.8789\n",
      "Epoch 37/150\n",
      "164/164 - 0s - loss: 0.2671 - accuracy: 0.8848\n",
      "Epoch 38/150\n",
      "164/164 - 0s - loss: 0.2705 - accuracy: 0.8812\n",
      "Epoch 39/150\n",
      "164/164 - 0s - loss: 0.2642 - accuracy: 0.8873\n",
      "Epoch 40/150\n",
      "164/164 - 0s - loss: 0.2659 - accuracy: 0.8804\n",
      "Epoch 41/150\n",
      "164/164 - 0s - loss: 0.2657 - accuracy: 0.8800\n",
      "Epoch 42/150\n",
      "164/164 - 0s - loss: 0.2645 - accuracy: 0.8804\n",
      "Epoch 43/150\n",
      "164/164 - 0s - loss: 0.2613 - accuracy: 0.8890\n",
      "Epoch 44/150\n",
      "164/164 - 0s - loss: 0.2584 - accuracy: 0.8837\n",
      "Epoch 45/150\n",
      "164/164 - 0s - loss: 0.2594 - accuracy: 0.8856\n",
      "Epoch 46/150\n",
      "164/164 - 0s - loss: 0.2626 - accuracy: 0.8814\n",
      "Epoch 47/150\n",
      "164/164 - 0s - loss: 0.2573 - accuracy: 0.8873\n",
      "Epoch 48/150\n",
      "164/164 - 0s - loss: 0.2599 - accuracy: 0.8867\n",
      "Epoch 49/150\n",
      "164/164 - 0s - loss: 0.2538 - accuracy: 0.8919\n",
      "Epoch 50/150\n",
      "164/164 - 0s - loss: 0.2576 - accuracy: 0.8856\n",
      "Epoch 51/150\n",
      "164/164 - 0s - loss: 0.2551 - accuracy: 0.8886\n",
      "Epoch 52/150\n",
      "164/164 - 0s - loss: 0.2569 - accuracy: 0.8833\n",
      "Epoch 53/150\n",
      "164/164 - 0s - loss: 0.2545 - accuracy: 0.8882\n",
      "Epoch 54/150\n",
      "164/164 - 0s - loss: 0.2526 - accuracy: 0.8859\n",
      "Epoch 55/150\n",
      "164/164 - 0s - loss: 0.2586 - accuracy: 0.8869\n",
      "Epoch 56/150\n",
      "164/164 - 0s - loss: 0.2493 - accuracy: 0.8915\n",
      "Epoch 57/150\n",
      "164/164 - 0s - loss: 0.2530 - accuracy: 0.8858\n",
      "Epoch 58/150\n",
      "164/164 - 0s - loss: 0.2526 - accuracy: 0.8901\n",
      "Epoch 59/150\n",
      "164/164 - 0s - loss: 0.2471 - accuracy: 0.8920\n",
      "Epoch 60/150\n",
      "164/164 - 0s - loss: 0.2499 - accuracy: 0.8894\n",
      "Epoch 61/150\n",
      "164/164 - 0s - loss: 0.2435 - accuracy: 0.8959\n",
      "Epoch 62/150\n",
      "164/164 - 0s - loss: 0.2436 - accuracy: 0.8934\n",
      "Epoch 63/150\n",
      "164/164 - 0s - loss: 0.2455 - accuracy: 0.8934\n",
      "Epoch 64/150\n",
      "164/164 - 0s - loss: 0.2444 - accuracy: 0.8978\n",
      "Epoch 65/150\n",
      "164/164 - 0s - loss: 0.2469 - accuracy: 0.8854\n",
      "Epoch 66/150\n",
      "164/164 - 0s - loss: 0.2389 - accuracy: 0.8949\n",
      "Epoch 67/150\n",
      "164/164 - 0s - loss: 0.2434 - accuracy: 0.8920\n",
      "Epoch 68/150\n",
      "164/164 - 0s - loss: 0.2422 - accuracy: 0.8919\n",
      "Epoch 69/150\n",
      "164/164 - 0s - loss: 0.2397 - accuracy: 0.8928\n",
      "Epoch 70/150\n",
      "164/164 - 0s - loss: 0.2404 - accuracy: 0.8934\n",
      "Epoch 71/150\n",
      "164/164 - 0s - loss: 0.2363 - accuracy: 0.8949\n",
      "Epoch 72/150\n",
      "164/164 - 0s - loss: 0.2393 - accuracy: 0.8961\n",
      "Epoch 73/150\n",
      "164/164 - 0s - loss: 0.2408 - accuracy: 0.8919\n",
      "Epoch 74/150\n",
      "164/164 - 0s - loss: 0.2392 - accuracy: 0.8941\n",
      "Epoch 75/150\n",
      "164/164 - 0s - loss: 0.2380 - accuracy: 0.8936\n",
      "Epoch 76/150\n",
      "164/164 - 0s - loss: 0.2423 - accuracy: 0.8905\n",
      "Epoch 77/150\n",
      "164/164 - 0s - loss: 0.2385 - accuracy: 0.8945\n",
      "Epoch 78/150\n",
      "164/164 - 0s - loss: 0.2346 - accuracy: 0.8989\n",
      "Epoch 79/150\n",
      "164/164 - 0s - loss: 0.2396 - accuracy: 0.8915\n",
      "Epoch 80/150\n",
      "164/164 - 0s - loss: 0.2344 - accuracy: 0.8945\n",
      "Epoch 81/150\n",
      "164/164 - 0s - loss: 0.2365 - accuracy: 0.8966\n",
      "Epoch 82/150\n",
      "164/164 - 0s - loss: 0.2300 - accuracy: 0.8991\n",
      "Epoch 83/150\n",
      "164/164 - 0s - loss: 0.2337 - accuracy: 0.8947\n",
      "Epoch 84/150\n",
      "164/164 - 0s - loss: 0.2330 - accuracy: 0.8938\n",
      "Epoch 85/150\n",
      "164/164 - 0s - loss: 0.2282 - accuracy: 0.8999\n",
      "Epoch 86/150\n",
      "164/164 - 0s - loss: 0.2334 - accuracy: 0.8962\n",
      "Epoch 87/150\n",
      "164/164 - 0s - loss: 0.2265 - accuracy: 0.8968\n",
      "Epoch 88/150\n",
      "164/164 - 0s - loss: 0.2352 - accuracy: 0.8953\n",
      "Epoch 89/150\n",
      "164/164 - 0s - loss: 0.2289 - accuracy: 0.8993\n",
      "Epoch 90/150\n",
      "164/164 - 0s - loss: 0.2297 - accuracy: 0.8953\n",
      "Epoch 91/150\n",
      "164/164 - 0s - loss: 0.2248 - accuracy: 0.9016\n",
      "Epoch 92/150\n",
      "164/164 - 0s - loss: 0.2292 - accuracy: 0.8949\n",
      "Epoch 93/150\n",
      "164/164 - 0s - loss: 0.2220 - accuracy: 0.9018\n",
      "Epoch 94/150\n",
      "164/164 - 0s - loss: 0.2253 - accuracy: 0.8995\n",
      "Epoch 95/150\n",
      "164/164 - 0s - loss: 0.2340 - accuracy: 0.8961\n",
      "Epoch 96/150\n",
      "164/164 - 0s - loss: 0.2258 - accuracy: 0.8983\n",
      "Epoch 97/150\n",
      "164/164 - 0s - loss: 0.2236 - accuracy: 0.8993\n",
      "Epoch 98/150\n",
      "164/164 - 0s - loss: 0.2234 - accuracy: 0.8999\n",
      "Epoch 99/150\n",
      "164/164 - 0s - loss: 0.2209 - accuracy: 0.9025\n",
      "Epoch 100/150\n",
      "164/164 - 0s - loss: 0.2210 - accuracy: 0.9027\n",
      "Epoch 101/150\n",
      "164/164 - 0s - loss: 0.2219 - accuracy: 0.9022\n",
      "Epoch 102/150\n",
      "164/164 - 0s - loss: 0.2188 - accuracy: 0.9046\n",
      "Epoch 103/150\n",
      "164/164 - 0s - loss: 0.2199 - accuracy: 0.9027\n",
      "Epoch 104/150\n",
      "164/164 - 0s - loss: 0.2261 - accuracy: 0.9002\n",
      "Epoch 105/150\n",
      "164/164 - 0s - loss: 0.2213 - accuracy: 0.9043\n",
      "Epoch 106/150\n",
      "164/164 - 0s - loss: 0.2289 - accuracy: 0.8930\n",
      "Epoch 107/150\n",
      "164/164 - 0s - loss: 0.2259 - accuracy: 0.8993\n",
      "Epoch 108/150\n",
      "164/164 - 0s - loss: 0.2181 - accuracy: 0.9022\n",
      "Epoch 109/150\n",
      "164/164 - 0s - loss: 0.2199 - accuracy: 0.9027\n",
      "Epoch 110/150\n",
      "164/164 - 0s - loss: 0.2122 - accuracy: 0.9064\n",
      "Epoch 111/150\n",
      "164/164 - 0s - loss: 0.2136 - accuracy: 0.9037\n",
      "Epoch 112/150\n",
      "164/164 - 0s - loss: 0.2152 - accuracy: 0.9058\n",
      "Epoch 113/150\n",
      "164/164 - 0s - loss: 0.2159 - accuracy: 0.9031\n",
      "Epoch 114/150\n",
      "164/164 - 0s - loss: 0.2167 - accuracy: 0.9025\n",
      "Epoch 115/150\n",
      "164/164 - 0s - loss: 0.2171 - accuracy: 0.9054\n",
      "Epoch 116/150\n",
      "164/164 - 0s - loss: 0.2130 - accuracy: 0.9054\n",
      "Epoch 117/150\n",
      "164/164 - 0s - loss: 0.2172 - accuracy: 0.8987\n",
      "Epoch 118/150\n",
      "164/164 - 0s - loss: 0.2133 - accuracy: 0.9037\n",
      "Epoch 119/150\n",
      "164/164 - 0s - loss: 0.2124 - accuracy: 0.9058\n",
      "Epoch 120/150\n",
      "164/164 - 0s - loss: 0.2073 - accuracy: 0.9092\n",
      "Epoch 121/150\n",
      "164/164 - 0s - loss: 0.2144 - accuracy: 0.9023\n",
      "Epoch 122/150\n",
      "164/164 - 0s - loss: 0.2124 - accuracy: 0.9031\n",
      "Epoch 123/150\n",
      "164/164 - 0s - loss: 0.2147 - accuracy: 0.9065\n",
      "Epoch 124/150\n",
      "164/164 - 0s - loss: 0.2066 - accuracy: 0.9086\n",
      "Epoch 125/150\n",
      "164/164 - 0s - loss: 0.2125 - accuracy: 0.9039\n",
      "Epoch 126/150\n",
      "164/164 - 0s - loss: 0.2118 - accuracy: 0.9023\n",
      "Epoch 127/150\n",
      "164/164 - 0s - loss: 0.2135 - accuracy: 0.8999\n",
      "Epoch 128/150\n",
      "164/164 - 0s - loss: 0.2162 - accuracy: 0.9008\n",
      "Epoch 129/150\n",
      "164/164 - 0s - loss: 0.2107 - accuracy: 0.9050\n",
      "Epoch 130/150\n",
      "164/164 - 0s - loss: 0.2062 - accuracy: 0.9077\n",
      "Epoch 131/150\n",
      "164/164 - 0s - loss: 0.2082 - accuracy: 0.9071\n",
      "Epoch 132/150\n",
      "164/164 - 0s - loss: 0.2031 - accuracy: 0.9117\n",
      "Epoch 133/150\n",
      "164/164 - 0s - loss: 0.2111 - accuracy: 0.9067\n",
      "Epoch 134/150\n",
      "164/164 - 0s - loss: 0.2020 - accuracy: 0.9094\n",
      "Epoch 135/150\n",
      "164/164 - 0s - loss: 0.2014 - accuracy: 0.9073\n",
      "Epoch 136/150\n",
      "164/164 - 0s - loss: 0.2076 - accuracy: 0.9079\n",
      "Epoch 137/150\n",
      "164/164 - 0s - loss: 0.2053 - accuracy: 0.9092\n",
      "Epoch 138/150\n",
      "164/164 - 0s - loss: 0.2084 - accuracy: 0.9035\n",
      "Epoch 139/150\n",
      "164/164 - 0s - loss: 0.2078 - accuracy: 0.9037\n",
      "Epoch 140/150\n",
      "164/164 - 0s - loss: 0.2017 - accuracy: 0.9079\n",
      "Epoch 141/150\n",
      "164/164 - 0s - loss: 0.1985 - accuracy: 0.9111\n",
      "Epoch 142/150\n",
      "164/164 - 0s - loss: 0.2022 - accuracy: 0.9115\n",
      "Epoch 143/150\n",
      "164/164 - 0s - loss: 0.2053 - accuracy: 0.9084\n",
      "Epoch 144/150\n",
      "164/164 - 0s - loss: 0.2026 - accuracy: 0.9098\n",
      "Epoch 145/150\n",
      "164/164 - 0s - loss: 0.1991 - accuracy: 0.9128\n",
      "Epoch 146/150\n",
      "164/164 - 0s - loss: 0.2056 - accuracy: 0.9094\n",
      "Epoch 147/150\n",
      "164/164 - 0s - loss: 0.1994 - accuracy: 0.9149\n",
      "Epoch 148/150\n",
      "164/164 - 0s - loss: 0.1951 - accuracy: 0.9163\n",
      "Epoch 149/150\n",
      "164/164 - 0s - loss: 0.1998 - accuracy: 0.9113\n",
      "Epoch 150/150\n",
      "164/164 - 0s - loss: 0.1962 - accuracy: 0.9105\n"
     ]
    },
    {
     "output_type": "execute_result",
     "data": {
      "text/plain": [
       "GridSearchCV(estimator=<tensorflow.python.keras.wrappers.scikit_learn.KerasClassifier object at 0x000001A93CF58C10>,\n",
       "             n_jobs=-1, param_grid={'epochs': [150], 'optimizer': ['Adam']},\n",
       "             refit='accuracy_score', scoring='accuracy')"
      ]
     },
     "metadata": {},
     "execution_count": 20
    }
   ],
   "source": [
    "# Train the model with GridSearch\n",
    "grid.fit(X_train_scaled, y_train)\n"
   ]
  },
  {
   "cell_type": "code",
   "execution_count": 21,
   "metadata": {},
   "outputs": [
    {
     "output_type": "stream",
     "name": "stdout",
     "text": [
      "{'epochs': 150, 'optimizer': 'Adam'}\n0.883461166214279\n"
     ]
    }
   ],
   "source": [
    "print(grid.best_params_)\n",
    "print(grid.best_score_)"
   ]
  },
  {
   "cell_type": "markdown",
   "metadata": {},
   "source": [
    "# Save the Model"
   ]
  },
  {
   "cell_type": "code",
   "execution_count": 24,
   "metadata": {},
   "outputs": [],
   "source": [
    "# save your model by updating \"your_name\" with your name\n",
    "# and \"your_model\" with your model variable\n",
    "# be sure to turn this in to BCS\n",
    "# if joblib fails to import, try running the command to install in terminal/git-bash\n",
    "import joblib\n",
    "model.save(\"deep_learning.h5\")"
   ]
  },
  {
   "cell_type": "code",
   "execution_count": null,
   "metadata": {},
   "outputs": [],
   "source": []
  }
 ],
 "metadata": {
  "kernel_info": {
   "name": "dev"
  },
  "kernelspec": {
   "name": "python385jvsc74a57bd033888a5d72fd546c510608f5704d454dda4fecfe28f012ab1603f1178be745ca",
   "display_name": "Python 3.8.5 64-bit (conda)"
  },
  "language_info": {
   "codemirror_mode": {
    "name": "ipython",
    "version": 3
   },
   "file_extension": ".py",
   "mimetype": "text/x-python",
   "name": "python",
   "nbconvert_exporter": "python",
   "pygments_lexer": "ipython3",
   "version": "3.8.5"
  },
  "nteract": {
   "version": "0.12.3"
  }
 },
 "nbformat": 4,
 "nbformat_minor": 2
}